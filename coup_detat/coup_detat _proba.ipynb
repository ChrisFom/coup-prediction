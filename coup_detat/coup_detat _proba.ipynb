{
 "cells": [
  {
   "cell_type": "code",
   "execution_count": 2,
   "metadata": {
    "id": "pI7BVZvm9lqw"
   },
   "outputs": [],
   "source": [
    "import pandas as pd"
   ]
  },
  {
   "cell_type": "markdown",
   "metadata": {},
   "source": [
    "**Cleaning data**"
   ]
  },
  {
   "cell_type": "code",
   "execution_count": 3,
   "metadata": {},
   "outputs": [],
   "source": [
    "dataset = pd.read_csv('Coup_Data_v2.0.0.csv', encoding='utf-8', delimiter=',', error_bad_lines=False) "
   ]
  },
  {
   "cell_type": "code",
   "execution_count": 8,
   "metadata": {},
   "outputs": [],
   "source": [
    "# убираем уже не существующие страны\n",
    "clean_data = dataset[dataset.country != 'USSR']"
   ]
  },
  {
   "cell_type": "code",
   "execution_count": 17,
   "metadata": {},
   "outputs": [],
   "source": [
    "# учёт разных названий одной и той же страны\n",
    "clean_data = clean_data.replace(to_replace={'Kyrgyz Republic':'Kyrgyzstan', \"Cote d'Ivoire\":'Ivory Coast','Congo':'Democratic Republic of the Congo'})\n",
    "#clean_data.iloc[279] проверить что в конкретной строке"
   ]
  },
  {
   "cell_type": "code",
   "execution_count": 20,
   "metadata": {},
   "outputs": [],
   "source": [
    "# запись фрейма в файл\n",
    "clean_data.to_csv('Coup_Data_v2.0.0_clean.csv', encoding='utf-8')"
   ]
  },
  {
   "cell_type": "markdown",
   "metadata": {},
   "source": [
    "**Computing Coups for each country**"
   ]
  },
  {
   "cell_type": "code",
   "execution_count": 21,
   "metadata": {
    "id": "7ZmkgdJ0Af4m"
   },
   "outputs": [],
   "source": [
    "data = pd.read_csv('Coup_Data_v2.0.0_clean.csv', encoding='utf-8', delimiter=',', error_bad_lines=False) "
   ]
  },
  {
   "cell_type": "code",
   "execution_count": 23,
   "metadata": {
    "id": "NOhEfpJlD9UL"
   },
   "outputs": [],
   "source": [
    "# госперевороты для заданного периода\n",
    "start_date = 1989\n",
    "data_filtered = data[data['year'] > start_date]"
   ]
  },
  {
   "cell_type": "code",
   "execution_count": 24,
   "metadata": {
    "colab": {
     "base_uri": "https://localhost:8080/"
    },
    "id": "wU1YmukDb5qr",
    "outputId": "99d5c3a4-85be-497c-c65d-6547fd87b877"
   },
   "outputs": [
    {
     "name": "stdout",
     "output_type": "stream",
     "text": [
      "83\n"
     ]
    }
   ],
   "source": [
    "# сортировка стран по алфавиту\n",
    "data_country_filtered = data_filtered.sort_values('country', ascending=True)\n",
    "# список всех стран в алфавитном порядке\n",
    "country_list = data_country_filtered['country'].unique()\n",
    "# количество стран в датасете\n",
    "country_num = len(country_list)\n",
    "print(country_num)"
   ]
  },
  {
   "cell_type": "code",
   "execution_count": 25,
   "metadata": {
    "colab": {
     "base_uri": "https://localhost:8080/"
    },
    "id": "mU4AKvInAzWA",
    "outputId": "4a97095c-a52d-4306-d78f-4ebed60ef7ea"
   },
   "outputs": [
    {
     "data": {
      "text/plain": [
       "2"
      ]
     },
     "execution_count": 25,
     "metadata": {},
     "output_type": "execute_result"
    }
   ],
   "source": [
    "# госперевороты для заданной страны\n",
    "len(data[data['country'] == 'Russia'])"
   ]
  },
  {
   "cell_type": "code",
   "execution_count": 31,
   "metadata": {
    "colab": {
     "base_uri": "https://localhost:8080/"
    },
    "id": "Z0AouzdJD1ds",
    "outputId": "55a1550f-10e0-4306-bb6f-45e2f9d42ac8",
    "scrolled": true
   },
   "outputs": [],
   "source": [
    "# частотность переворотов за последние 50 лет\n",
    "# количество переворотов == количество строчек с этой страной\n",
    "data_country_numbered = data_filtered.groupby('country').count()\n",
    "coup_numbers = list(data_country_numbered['coup_id'])"
   ]
  },
  {
   "cell_type": "code",
   "execution_count": 32,
   "metadata": {
    "id": "dlBCvjiWS_df"
   },
   "outputs": [],
   "source": [
    "# таблица для записи итоговых данных\n",
    "result_data = pd.DataFrame({'country':country_list, 'coup_num':coup_numbers}, columns=['country', 'coup_num'])"
   ]
  },
  {
   "cell_type": "code",
   "execution_count": 33,
   "metadata": {
    "colab": {
     "base_uri": "https://localhost:8080/"
    },
    "id": "i9qKp5nnlWOL",
    "outputId": "d0950db1-b90c-408e-afde-a47cc0bec315"
   },
   "outputs": [
    {
     "data": {
      "text/plain": [
       "3.0963855421686746"
      ]
     },
     "execution_count": 33,
     "metadata": {},
     "output_type": "execute_result"
    }
   ],
   "source": [
    "# статистика по столбцу\n",
    "result_data['coup_num'].describe()\n",
    "# среднее значение\n",
    "result_data['coup_num'].mean()"
   ]
  },
  {
   "cell_type": "code",
   "execution_count": 57,
   "metadata": {
    "id": "-bqUxYG14s18"
   },
   "outputs": [],
   "source": [
    "# измение имени столбца\n",
    "result_data.rename(columns={'Unnamed: 0':'id'}, inplace = True)"
   ]
  },
  {
   "cell_type": "code",
   "execution_count": 60,
   "metadata": {},
   "outputs": [
    {
     "data": {
      "text/plain": [
       "Index(['country', 'coup_num', 'p_month', 'p_year', 'p_year_smooth',\n",
       "       'p_month_smooth'],\n",
       "      dtype='object')"
      ]
     },
     "execution_count": 60,
     "metadata": {},
     "output_type": "execute_result"
    }
   ],
   "source": [
    "result_data.columns"
   ]
  },
  {
   "cell_type": "markdown",
   "metadata": {},
   "source": [
    "**Computing Probabilities**"
   ]
  },
  {
   "cell_type": "markdown",
   "metadata": {
    "id": "-SgS7btY_G0u"
   },
   "source": [
    "**Вычисление частот и сглаженных частот**\n",
    "\n",
    "пусть средняя частота переворотов для всех стран - m\n",
    "пусть коэффициент сглаживания a « 1 (например, 0.1)\n",
    "\n",
    "путь частота переворотов для конкретной страны mZ\n",
    "\n",
    "p_smooth = (1-a)mZ + am"
   ]
  },
  {
   "cell_type": "code",
   "execution_count": 38,
   "metadata": {},
   "outputs": [],
   "source": [
    "a = 0.1\n",
    "p_month = list()\n",
    "p_year = list()\n",
    "p_year_smooth = list()\n",
    "p_month_smooth = list()"
   ]
  },
  {
   "cell_type": "code",
   "execution_count": 39,
   "metadata": {
    "id": "SCjN1r0lzz8L"
   },
   "outputs": [],
   "source": [
    "# частоты по месяцам\n",
    "for num in result_data['coup_num']:\n",
    "   p_month.append(num/600*100) \n",
    "# частоты по годам\n",
    "for num in result_data['coup_num']:\n",
    "   p_year.append(num/50*100) "
   ]
  },
  {
   "cell_type": "code",
   "execution_count": 40,
   "metadata": {
    "id": "nHxuige52iuo"
   },
   "outputs": [],
   "source": [
    "# запись значение в фрейм\n",
    "result_data['p_month'] = p_month\n",
    "result_data['p_year'] = p_year"
   ]
  },
  {
   "cell_type": "code",
   "execution_count": 41,
   "metadata": {
    "id": "eTm1jWyYz5gO"
   },
   "outputs": [],
   "source": [
    "# сглаженные частоты по месяцам\n",
    "m = result_data['p_month'].mean()\n",
    "for p in result_data['p_month']:\n",
    "   p_month_smooth.append(round(((1-a)*p + a*m), 3)) \n",
    "# сглаженные частоты по годам\n",
    "m = result_data['p_year'].mean()\n",
    "for p in result_data['p_year']:\n",
    "   p_year_smooth.append(round(((1-a)*p + a*m))) "
   ]
  },
  {
   "cell_type": "code",
   "execution_count": 42,
   "metadata": {
    "id": "8-MC3MyK3Rwm"
   },
   "outputs": [],
   "source": [
    "# запись значение в фрейм\n",
    "result_data['p_year_smooth'] = p_year_smooth\n",
    "result_data['p_month_smooth'] = p_month_smooth"
   ]
  },
  {
   "cell_type": "code",
   "execution_count": 52,
   "metadata": {},
   "outputs": [],
   "source": [
    "# чтение списка стран из файла\n",
    "# !!!! change path !!!\n",
    "countries = pd.read_csv('/home/anastasia/PycharmProjects/coup-prediction/data/country_names.csv', encoding='utf-8', delimiter=',', error_bad_lines=False) "
   ]
  },
  {
   "cell_type": "code",
   "execution_count": 61,
   "metadata": {
    "scrolled": true
   },
   "outputs": [],
   "source": [
    "result_data_with_un = result_data.copy()\n",
    "# добавляем в список стран, которых не было в Coup d'etait\n",
    "list_for_adding = list(set(countries['country_name']) - set(result_data['country']))        \n",
    "# частоты для них проставляем средние\n",
    "p_month_smooth_average = result_data['p_month_smooth'].mean()\n",
    "p_month_average = result_data['p_month'].mean()\n",
    "p_year_smooth_average = result_data['p_year_smooth'].mean()\n",
    "p_year_average = result_data['p_year'].mean()\n",
    "coup_average = result_data['coup_num'].mean()\n"
   ]
  },
  {
   "cell_type": "code",
   "execution_count": 62,
   "metadata": {},
   "outputs": [],
   "source": [
    "data_un = pd.DataFrame({'country':list_for_adding, 'coup_num':coup_average, 'p_month': p_month_average,'p_year':p_year_average, \n",
    "                        'p_year_smooth':p_year_smooth_average, 'p_month_smooth': p_month_smooth_average}, \n",
    "                       columns=['country', 'coup_num', 'p_month', 'p_year', 'p_year_smooth', 'p_month_smooth'])"
   ]
  },
  {
   "cell_type": "code",
   "execution_count": 63,
   "metadata": {
    "scrolled": true
   },
   "outputs": [
    {
     "data": {
      "text/html": [
       "<div>\n",
       "<style scoped>\n",
       "    .dataframe tbody tr th:only-of-type {\n",
       "        vertical-align: middle;\n",
       "    }\n",
       "\n",
       "    .dataframe tbody tr th {\n",
       "        vertical-align: top;\n",
       "    }\n",
       "\n",
       "    .dataframe thead th {\n",
       "        text-align: right;\n",
       "    }\n",
       "</style>\n",
       "<table border=\"1\" class=\"dataframe\">\n",
       "  <thead>\n",
       "    <tr style=\"text-align: right;\">\n",
       "      <th></th>\n",
       "      <th>country</th>\n",
       "      <th>coup_num</th>\n",
       "      <th>p_month</th>\n",
       "      <th>p_year</th>\n",
       "      <th>p_year_smooth</th>\n",
       "      <th>p_month_smooth</th>\n",
       "    </tr>\n",
       "  </thead>\n",
       "  <tbody>\n",
       "    <tr>\n",
       "      <th>0</th>\n",
       "      <td>Slovenia</td>\n",
       "      <td>3.096386</td>\n",
       "      <td>0.516064</td>\n",
       "      <td>6.192771</td>\n",
       "      <td>6.012048</td>\n",
       "      <td>0.516458</td>\n",
       "    </tr>\n",
       "    <tr>\n",
       "      <th>1</th>\n",
       "      <td>Vanuatu</td>\n",
       "      <td>3.096386</td>\n",
       "      <td>0.516064</td>\n",
       "      <td>6.192771</td>\n",
       "      <td>6.012048</td>\n",
       "      <td>0.516458</td>\n",
       "    </tr>\n",
       "    <tr>\n",
       "      <th>2</th>\n",
       "      <td>Switzerland</td>\n",
       "      <td>3.096386</td>\n",
       "      <td>0.516064</td>\n",
       "      <td>6.192771</td>\n",
       "      <td>6.012048</td>\n",
       "      <td>0.516458</td>\n",
       "    </tr>\n",
       "    <tr>\n",
       "      <th>3</th>\n",
       "      <td>Vietnam</td>\n",
       "      <td>3.096386</td>\n",
       "      <td>0.516064</td>\n",
       "      <td>6.192771</td>\n",
       "      <td>6.012048</td>\n",
       "      <td>0.516458</td>\n",
       "    </tr>\n",
       "    <tr>\n",
       "      <th>4</th>\n",
       "      <td>Ghana</td>\n",
       "      <td>3.096386</td>\n",
       "      <td>0.516064</td>\n",
       "      <td>6.192771</td>\n",
       "      <td>6.012048</td>\n",
       "      <td>0.516458</td>\n",
       "    </tr>\n",
       "    <tr>\n",
       "      <th>...</th>\n",
       "      <td>...</td>\n",
       "      <td>...</td>\n",
       "      <td>...</td>\n",
       "      <td>...</td>\n",
       "      <td>...</td>\n",
       "      <td>...</td>\n",
       "    </tr>\n",
       "    <tr>\n",
       "      <th>109</th>\n",
       "      <td>El Salvador</td>\n",
       "      <td>3.096386</td>\n",
       "      <td>0.516064</td>\n",
       "      <td>6.192771</td>\n",
       "      <td>6.012048</td>\n",
       "      <td>0.516458</td>\n",
       "    </tr>\n",
       "    <tr>\n",
       "      <th>110</th>\n",
       "      <td>Estonia</td>\n",
       "      <td>3.096386</td>\n",
       "      <td>0.516064</td>\n",
       "      <td>6.192771</td>\n",
       "      <td>6.012048</td>\n",
       "      <td>0.516458</td>\n",
       "    </tr>\n",
       "    <tr>\n",
       "      <th>111</th>\n",
       "      <td>United Arab Emirates</td>\n",
       "      <td>3.096386</td>\n",
       "      <td>0.516064</td>\n",
       "      <td>6.192771</td>\n",
       "      <td>6.012048</td>\n",
       "      <td>0.516458</td>\n",
       "    </tr>\n",
       "    <tr>\n",
       "      <th>112</th>\n",
       "      <td>Uruguay</td>\n",
       "      <td>3.096386</td>\n",
       "      <td>0.516064</td>\n",
       "      <td>6.192771</td>\n",
       "      <td>6.012048</td>\n",
       "      <td>0.516458</td>\n",
       "    </tr>\n",
       "    <tr>\n",
       "      <th>113</th>\n",
       "      <td>Belarus</td>\n",
       "      <td>3.096386</td>\n",
       "      <td>0.516064</td>\n",
       "      <td>6.192771</td>\n",
       "      <td>6.012048</td>\n",
       "      <td>0.516458</td>\n",
       "    </tr>\n",
       "  </tbody>\n",
       "</table>\n",
       "<p>114 rows × 6 columns</p>\n",
       "</div>"
      ],
      "text/plain": [
       "                  country  coup_num   p_month    p_year  p_year_smooth  \\\n",
       "0                Slovenia  3.096386  0.516064  6.192771       6.012048   \n",
       "1                 Vanuatu  3.096386  0.516064  6.192771       6.012048   \n",
       "2             Switzerland  3.096386  0.516064  6.192771       6.012048   \n",
       "3                 Vietnam  3.096386  0.516064  6.192771       6.012048   \n",
       "4                   Ghana  3.096386  0.516064  6.192771       6.012048   \n",
       "..                    ...       ...       ...       ...            ...   \n",
       "109           El Salvador  3.096386  0.516064  6.192771       6.012048   \n",
       "110               Estonia  3.096386  0.516064  6.192771       6.012048   \n",
       "111  United Arab Emirates  3.096386  0.516064  6.192771       6.012048   \n",
       "112               Uruguay  3.096386  0.516064  6.192771       6.012048   \n",
       "113               Belarus  3.096386  0.516064  6.192771       6.012048   \n",
       "\n",
       "     p_month_smooth  \n",
       "0          0.516458  \n",
       "1          0.516458  \n",
       "2          0.516458  \n",
       "3          0.516458  \n",
       "4          0.516458  \n",
       "..              ...  \n",
       "109        0.516458  \n",
       "110        0.516458  \n",
       "111        0.516458  \n",
       "112        0.516458  \n",
       "113        0.516458  \n",
       "\n",
       "[114 rows x 6 columns]"
      ]
     },
     "execution_count": 63,
     "metadata": {},
     "output_type": "execute_result"
    }
   ],
   "source": [
    "data_un"
   ]
  },
  {
   "cell_type": "code",
   "execution_count": 64,
   "metadata": {},
   "outputs": [
    {
     "data": {
      "text/html": [
       "<div>\n",
       "<style scoped>\n",
       "    .dataframe tbody tr th:only-of-type {\n",
       "        vertical-align: middle;\n",
       "    }\n",
       "\n",
       "    .dataframe tbody tr th {\n",
       "        vertical-align: top;\n",
       "    }\n",
       "\n",
       "    .dataframe thead th {\n",
       "        text-align: right;\n",
       "    }\n",
       "</style>\n",
       "<table border=\"1\" class=\"dataframe\">\n",
       "  <thead>\n",
       "    <tr style=\"text-align: right;\">\n",
       "      <th></th>\n",
       "      <th>country</th>\n",
       "      <th>coup_num</th>\n",
       "      <th>p_month</th>\n",
       "      <th>p_year</th>\n",
       "      <th>p_year_smooth</th>\n",
       "      <th>p_month_smooth</th>\n",
       "    </tr>\n",
       "  </thead>\n",
       "  <tbody>\n",
       "    <tr>\n",
       "      <th>0</th>\n",
       "      <td>Afghanistan</td>\n",
       "      <td>4.000000</td>\n",
       "      <td>0.666667</td>\n",
       "      <td>8.000000</td>\n",
       "      <td>8.000000</td>\n",
       "      <td>0.652000</td>\n",
       "    </tr>\n",
       "    <tr>\n",
       "      <th>1</th>\n",
       "      <td>Albania</td>\n",
       "      <td>1.000000</td>\n",
       "      <td>0.166667</td>\n",
       "      <td>2.000000</td>\n",
       "      <td>2.000000</td>\n",
       "      <td>0.202000</td>\n",
       "    </tr>\n",
       "    <tr>\n",
       "      <th>2</th>\n",
       "      <td>Algeria</td>\n",
       "      <td>5.000000</td>\n",
       "      <td>0.833333</td>\n",
       "      <td>10.000000</td>\n",
       "      <td>10.000000</td>\n",
       "      <td>0.802000</td>\n",
       "    </tr>\n",
       "    <tr>\n",
       "      <th>3</th>\n",
       "      <td>Argentina</td>\n",
       "      <td>1.000000</td>\n",
       "      <td>0.166667</td>\n",
       "      <td>2.000000</td>\n",
       "      <td>2.000000</td>\n",
       "      <td>0.202000</td>\n",
       "    </tr>\n",
       "    <tr>\n",
       "      <th>4</th>\n",
       "      <td>Armenia</td>\n",
       "      <td>1.000000</td>\n",
       "      <td>0.166667</td>\n",
       "      <td>2.000000</td>\n",
       "      <td>2.000000</td>\n",
       "      <td>0.202000</td>\n",
       "    </tr>\n",
       "    <tr>\n",
       "      <th>...</th>\n",
       "      <td>...</td>\n",
       "      <td>...</td>\n",
       "      <td>...</td>\n",
       "      <td>...</td>\n",
       "      <td>...</td>\n",
       "      <td>...</td>\n",
       "    </tr>\n",
       "    <tr>\n",
       "      <th>192</th>\n",
       "      <td>El Salvador</td>\n",
       "      <td>3.096386</td>\n",
       "      <td>0.516064</td>\n",
       "      <td>6.192771</td>\n",
       "      <td>6.012048</td>\n",
       "      <td>0.516458</td>\n",
       "    </tr>\n",
       "    <tr>\n",
       "      <th>193</th>\n",
       "      <td>Estonia</td>\n",
       "      <td>3.096386</td>\n",
       "      <td>0.516064</td>\n",
       "      <td>6.192771</td>\n",
       "      <td>6.012048</td>\n",
       "      <td>0.516458</td>\n",
       "    </tr>\n",
       "    <tr>\n",
       "      <th>194</th>\n",
       "      <td>United Arab Emirates</td>\n",
       "      <td>3.096386</td>\n",
       "      <td>0.516064</td>\n",
       "      <td>6.192771</td>\n",
       "      <td>6.012048</td>\n",
       "      <td>0.516458</td>\n",
       "    </tr>\n",
       "    <tr>\n",
       "      <th>195</th>\n",
       "      <td>Uruguay</td>\n",
       "      <td>3.096386</td>\n",
       "      <td>0.516064</td>\n",
       "      <td>6.192771</td>\n",
       "      <td>6.012048</td>\n",
       "      <td>0.516458</td>\n",
       "    </tr>\n",
       "    <tr>\n",
       "      <th>196</th>\n",
       "      <td>Belarus</td>\n",
       "      <td>3.096386</td>\n",
       "      <td>0.516064</td>\n",
       "      <td>6.192771</td>\n",
       "      <td>6.012048</td>\n",
       "      <td>0.516458</td>\n",
       "    </tr>\n",
       "  </tbody>\n",
       "</table>\n",
       "<p>197 rows × 6 columns</p>\n",
       "</div>"
      ],
      "text/plain": [
       "                  country  coup_num   p_month     p_year  p_year_smooth  \\\n",
       "0             Afghanistan  4.000000  0.666667   8.000000       8.000000   \n",
       "1                 Albania  1.000000  0.166667   2.000000       2.000000   \n",
       "2                 Algeria  5.000000  0.833333  10.000000      10.000000   \n",
       "3               Argentina  1.000000  0.166667   2.000000       2.000000   \n",
       "4                 Armenia  1.000000  0.166667   2.000000       2.000000   \n",
       "..                    ...       ...       ...        ...            ...   \n",
       "192           El Salvador  3.096386  0.516064   6.192771       6.012048   \n",
       "193               Estonia  3.096386  0.516064   6.192771       6.012048   \n",
       "194  United Arab Emirates  3.096386  0.516064   6.192771       6.012048   \n",
       "195               Uruguay  3.096386  0.516064   6.192771       6.012048   \n",
       "196               Belarus  3.096386  0.516064   6.192771       6.012048   \n",
       "\n",
       "     p_month_smooth  \n",
       "0          0.652000  \n",
       "1          0.202000  \n",
       "2          0.802000  \n",
       "3          0.202000  \n",
       "4          0.202000  \n",
       "..              ...  \n",
       "192        0.516458  \n",
       "193        0.516458  \n",
       "194        0.516458  \n",
       "195        0.516458  \n",
       "196        0.516458  \n",
       "\n",
       "[197 rows x 6 columns]"
      ]
     },
     "execution_count": 64,
     "metadata": {},
     "output_type": "execute_result"
    }
   ],
   "source": [
    "result_data_with_un.append(data_un, ignore_index=True)"
   ]
  },
  {
   "cell_type": "code",
   "execution_count": 65,
   "metadata": {
    "id": "IvnXTbtdz0r0"
   },
   "outputs": [],
   "source": [
    "# запись фрейма в файл\n",
    "result_data_with_un.to_csv('probas_for_coup_detait_with_un.csv', encoding='utf-8')"
   ]
  },
  {
   "cell_type": "code",
   "execution_count": null,
   "metadata": {
    "id": "bitLg2L-z40w"
   },
   "outputs": [],
   "source": []
  }
 ],
 "metadata": {
  "colab": {
   "name": "coup_detat.ipynb",
   "provenance": []
  },
  "kernelspec": {
   "display_name": "Python 3",
   "language": "python",
   "name": "python3"
  },
  "language_info": {
   "codemirror_mode": {
    "name": "ipython",
    "version": 3
   },
   "file_extension": ".py",
   "mimetype": "text/x-python",
   "name": "python",
   "nbconvert_exporter": "python",
   "pygments_lexer": "ipython3",
   "version": "3.8.5"
  }
 },
 "nbformat": 4,
 "nbformat_minor": 1
}
