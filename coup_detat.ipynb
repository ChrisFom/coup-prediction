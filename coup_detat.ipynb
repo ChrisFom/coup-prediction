{
  "nbformat": 4,
  "nbformat_minor": 0,
  "metadata": {
    "colab": {
      "name": "coup_detat.ipynb",
      "provenance": []
    },
    "kernelspec": {
      "name": "python3",
      "display_name": "Python 3"
    }
  },
  "cells": [
    {
      "cell_type": "code",
      "metadata": {
        "colab": {
          "base_uri": "https://localhost:8080/"
        },
        "id": "by2LnLHADQ_d",
        "outputId": "797b7583-4b5f-4521-8ee5-cd0a4f0b24de"
      },
      "source": [
        "from google.colab import drive\n",
        "drive.mount('/content/drive')"
      ],
      "execution_count": null,
      "outputs": [
        {
          "output_type": "stream",
          "text": [
            "Drive already mounted at /content/drive; to attempt to forcibly remount, call drive.mount(\"/content/drive\", force_remount=True).\n"
          ],
          "name": "stdout"
        }
      ]
    },
    {
      "cell_type": "code",
      "metadata": {
        "id": "pI7BVZvm9lqw"
      },
      "source": [
        "import pandas as pd\n",
        "import os"
      ],
      "execution_count": null,
      "outputs": []
    },
    {
      "cell_type": "code",
      "metadata": {
        "id": "7ZmkgdJ0Af4m"
      },
      "source": [
        "data_path = 'Coup_Data_v2.0.0.csv'\n",
        "data = pd.read_csv(data_path, encoding='utf-8', delimiter=',', error_bad_lines=False) "
      ],
      "execution_count": null,
      "outputs": []
    },
    {
      "cell_type": "code",
      "metadata": {
        "colab": {
          "base_uri": "https://localhost:8080/"
        },
        "id": "e51VVqfQOy-e",
        "outputId": "72ba3b46-2e3e-4f4c-d5ef-da38e0b3af6c"
      },
      "source": [
        "data.info()"
      ],
      "execution_count": null,
      "outputs": [
        {
          "output_type": "stream",
          "text": [
            "<class 'pandas.core.frame.DataFrame'>\n",
            "RangeIndex: 943 entries, 0 to 942\n",
            "Data columns (total 29 columns):\n",
            " #   Column      Non-Null Count  Dtype \n",
            "---  ------      --------------  ----- \n",
            " 0   coup_id     943 non-null    object\n",
            " 1   cowcode     943 non-null    int64 \n",
            " 2   country     943 non-null    object\n",
            " 3   year        943 non-null    int64 \n",
            " 4   month       943 non-null    int64 \n",
            " 5   day         943 non-null    int64 \n",
            " 6   event_type  943 non-null    object\n",
            " 7   unrealized  943 non-null    int64 \n",
            " 8   realized    943 non-null    int64 \n",
            " 9   conspiracy  943 non-null    int64 \n",
            " 10  attempt     943 non-null    int64 \n",
            " 11  military    943 non-null    int64 \n",
            " 12  dissident   943 non-null    int64 \n",
            " 13  rebel       943 non-null    int64 \n",
            " 14  palace      943 non-null    int64 \n",
            " 15  foreign     943 non-null    int64 \n",
            " 16  auto        943 non-null    int64 \n",
            " 17  resign      943 non-null    int64 \n",
            " 18  popular     943 non-null    int64 \n",
            " 19  counter     943 non-null    int64 \n",
            " 20  other       943 non-null    int64 \n",
            " 21  noharm      943 non-null    int64 \n",
            " 22  injured     943 non-null    int64 \n",
            " 23  killed      943 non-null    int64 \n",
            " 24  harrest     943 non-null    int64 \n",
            " 25  jailed      943 non-null    int64 \n",
            " 26  tried       943 non-null    int64 \n",
            " 27  fled        943 non-null    int64 \n",
            " 28  exile       943 non-null    int64 \n",
            "dtypes: int64(26), object(3)\n",
            "memory usage: 213.8+ KB\n"
          ],
          "name": "stdout"
        }
      ]
    },
    {
      "cell_type": "code",
      "metadata": {
        "colab": {
          "base_uri": "https://localhost:8080/"
        },
        "id": "wU1YmukDb5qr",
        "outputId": "123f7fa3-d9b7-46cc-b0c1-801d48f6e6c4"
      },
      "source": [
        "# сортировка стран по алфавиту\n",
        "data_country_filtered = data.sort_values('country', ascending=True)\n",
        "# список всех стран в алфавитном порядке\n",
        "country_dict = data_country_filtered['country'].unique()\n",
        "# количество стран в датасете\n",
        "country_num = len(country_list)\n",
        "print(country_num)"
      ],
      "execution_count": null,
      "outputs": [
        {
          "output_type": "stream",
          "text": [
            "136\n"
          ],
          "name": "stdout"
        }
      ]
    },
    {
      "cell_type": "code",
      "metadata": {
        "id": "mU4AKvInAzWA"
      },
      "source": [
        "# госперевороты для заданной страны\n",
        "len(data[data['country'] == 'Russia'])"
      ],
      "execution_count": null,
      "outputs": []
    },
    {
      "cell_type": "code",
      "metadata": {
        "id": "mTTozmFbUpPr"
      },
      "source": [
        "# группировка строк по определенному столбцу\n",
        "data_country_numbered = data.groupby('country').count()"
      ],
      "execution_count": null,
      "outputs": []
    },
    {
      "cell_type": "code",
      "metadata": {
        "id": "NOhEfpJlD9UL"
      },
      "source": [
        "# госперевороты для заданного периода\n",
        "start_date = 1970\n",
        "data_filtered = data[data['year'] > start_date]"
      ],
      "execution_count": null,
      "outputs": []
    },
    {
      "cell_type": "code",
      "metadata": {
        "colab": {
          "base_uri": "https://localhost:8080/"
        },
        "id": "Z0AouzdJD1ds",
        "outputId": "38b5ec11-d34a-402e-b99c-0f9a601ba19f"
      },
      "source": [
        "# частотность переворотов за последние 50 лет\n",
        "# количество переворотов == количество строчек с этой страной\n",
        "data_country_numbered = data.groupby('country').count()\n",
        "print(data_country_numbered)\n",
        "coup_numbers = list(data_country_numbered['coup_id'])"
      ],
      "execution_count": null,
      "outputs": [
        {
          "output_type": "stream",
          "text": [
            "                     coup_id  cowcode  year  month  ...  jailed  tried  fled  exile\n",
            "country                                             ...                            \n",
            "Afghanistan               11       11    11     11  ...      11     11    11     11\n",
            "Albania                    2        2     2      2  ...       2      2     2      2\n",
            "Algeria                    9        9     9      9  ...       9      9     9      9\n",
            "Angola                     2        2     2      2  ...       2      2     2      2\n",
            "Argentina                 24       24    24     24  ...      24     24    24     24\n",
            "...                      ...      ...   ...    ...  ...     ...    ...   ...    ...\n",
            "Yemen                      2        2     2      2  ...       2      2     2      2\n",
            "Yemen Arab Republic        6        6     6      6  ...       6      6     6      6\n",
            "Yemen PDR                  6        6     6      6  ...       6      6     6      6\n",
            "Zambia                     5        5     5      5  ...       5      5     5      5\n",
            "Zimbabwe                   5        5     5      5  ...       5      5     5      5\n",
            "\n",
            "[136 rows x 28 columns]\n"
          ],
          "name": "stdout"
        }
      ]
    },
    {
      "cell_type": "code",
      "metadata": {
        "id": "dlBCvjiWS_df"
      },
      "source": [
        "# таблица для записи итоговых данных\n",
        "df = pd.DataFrame({'country':country_list, 'coup_num':coup_numbers}, columns=['country', 'coup_num'])"
      ],
      "execution_count": null,
      "outputs": []
    },
    {
      "cell_type": "code",
      "metadata": {
        "colab": {
          "base_uri": "https://localhost:8080/",
          "height": 419
        },
        "id": "tXrP2eK-XcFc",
        "outputId": "55697830-e675-4988-df23-f6d421621f51"
      },
      "source": [
        "df"
      ],
      "execution_count": null,
      "outputs": [
        {
          "output_type": "execute_result",
          "data": {
            "text/html": [
              "<div>\n",
              "<style scoped>\n",
              "    .dataframe tbody tr th:only-of-type {\n",
              "        vertical-align: middle;\n",
              "    }\n",
              "\n",
              "    .dataframe tbody tr th {\n",
              "        vertical-align: top;\n",
              "    }\n",
              "\n",
              "    .dataframe thead th {\n",
              "        text-align: right;\n",
              "    }\n",
              "</style>\n",
              "<table border=\"1\" class=\"dataframe\">\n",
              "  <thead>\n",
              "    <tr style=\"text-align: right;\">\n",
              "      <th></th>\n",
              "      <th>country</th>\n",
              "      <th>coup_num</th>\n",
              "    </tr>\n",
              "  </thead>\n",
              "  <tbody>\n",
              "    <tr>\n",
              "      <th>0</th>\n",
              "      <td>Afghanistan</td>\n",
              "      <td>11</td>\n",
              "    </tr>\n",
              "    <tr>\n",
              "      <th>1</th>\n",
              "      <td>Albania</td>\n",
              "      <td>2</td>\n",
              "    </tr>\n",
              "    <tr>\n",
              "      <th>2</th>\n",
              "      <td>Algeria</td>\n",
              "      <td>9</td>\n",
              "    </tr>\n",
              "    <tr>\n",
              "      <th>3</th>\n",
              "      <td>Angola</td>\n",
              "      <td>2</td>\n",
              "    </tr>\n",
              "    <tr>\n",
              "      <th>4</th>\n",
              "      <td>Argentina</td>\n",
              "      <td>24</td>\n",
              "    </tr>\n",
              "    <tr>\n",
              "      <th>...</th>\n",
              "      <td>...</td>\n",
              "      <td>...</td>\n",
              "    </tr>\n",
              "    <tr>\n",
              "      <th>131</th>\n",
              "      <td>Yemen</td>\n",
              "      <td>2</td>\n",
              "    </tr>\n",
              "    <tr>\n",
              "      <th>132</th>\n",
              "      <td>Yemen Arab Republic</td>\n",
              "      <td>6</td>\n",
              "    </tr>\n",
              "    <tr>\n",
              "      <th>133</th>\n",
              "      <td>Yemen PDR</td>\n",
              "      <td>6</td>\n",
              "    </tr>\n",
              "    <tr>\n",
              "      <th>134</th>\n",
              "      <td>Zambia</td>\n",
              "      <td>5</td>\n",
              "    </tr>\n",
              "    <tr>\n",
              "      <th>135</th>\n",
              "      <td>Zimbabwe</td>\n",
              "      <td>5</td>\n",
              "    </tr>\n",
              "  </tbody>\n",
              "</table>\n",
              "<p>136 rows × 2 columns</p>\n",
              "</div>"
            ],
            "text/plain": [
              "                 country  coup_num\n",
              "0            Afghanistan        11\n",
              "1                Albania         2\n",
              "2                Algeria         9\n",
              "3                 Angola         2\n",
              "4              Argentina        24\n",
              "..                   ...       ...\n",
              "131                Yemen         2\n",
              "132  Yemen Arab Republic         6\n",
              "133            Yemen PDR         6\n",
              "134               Zambia         5\n",
              "135             Zimbabwe         5\n",
              "\n",
              "[136 rows x 2 columns]"
            ]
          },
          "metadata": {
            "tags": []
          },
          "execution_count": 74
        }
      ]
    },
    {
      "cell_type": "code",
      "metadata": {
        "colab": {
          "base_uri": "https://localhost:8080/"
        },
        "id": "i9qKp5nnlWOL",
        "outputId": "4681bc78-022a-4611-ba94-66e6da2da2cb"
      },
      "source": [
        "# статистика по столбцу\n",
        "df['coup_num'].describe()\n",
        "# среднее значение\n",
        "df['coup_num'].mean()"
      ],
      "execution_count": null,
      "outputs": [
        {
          "output_type": "execute_result",
          "data": {
            "text/plain": [
              "6.9338235294117645"
            ]
          },
          "metadata": {
            "tags": []
          },
          "execution_count": 78
        }
      ]
    },
    {
      "cell_type": "code",
      "metadata": {
        "id": "VQXW8UszdZx1"
      },
      "source": [
        "# запись фрейма в файл\n",
        "file_path = 'result_coup_detait.csv'\n",
        "df.to_csv(file_path, encoding='utf-8')"
      ],
      "execution_count": null,
      "outputs": []
    },
    {
      "cell_type": "code",
      "metadata": {
        "id": "Tty4ZMczgC-j"
      },
      "source": [
        ""
      ],
      "execution_count": null,
      "outputs": []
    }
  ]
}